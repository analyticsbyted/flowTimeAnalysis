{
 "cells": [
  {
   "cell_type": "markdown",
   "metadata": {},
   "source": [
    "# Flow time analysis for an ER system\n",
    "\n",
    "Background Information:\n",
    "  \n",
    "A triage system is proposed for a hospital emergency room (ER).\n",
    "On average, 70 patients per hour arrive at the ER, and the same number leave every hour.\n",
    "Various stages in the triage process are defined, with associated arrival rates (R), flow times (T), and inventory (I)."
   ]
  },
  {
   "cell_type": "code",
   "execution_count": 4,
   "metadata": {},
   "outputs": [],
   "source": [
    "# Define the given parameters\n",
    "arrival_rate = 70  # patients per hour"
   ]
  },
  {
   "cell_type": "markdown",
   "metadata": {},
   "source": [
    "What is the process flow rate?  What is the process flow rate for all eight stages?"
   ]
  },
  {
   "cell_type": "code",
   "execution_count": 10,
   "metadata": {},
   "outputs": [
    {
     "name": "stdout",
     "output_type": "stream",
     "text": [
      "Flow Rates for Each Stage:\n",
      "Stage 1 - Registration (Entering Patients): R1 = 70 patients per hour\n",
      "Stage 2 - Registration (Time to Register): R2 = 70 patients per hour\n",
      "Stage 3 - Waiting for Triage Nurse: R3 = 70 patients per hour\n",
      "Stage 4 - Triage Nurse Examination: R4 = 70 patients per hour\n",
      "Stage 5 - Simple Prescriptions Waiting: R5 = 56.0 patients per hour\n",
      "Stage 6 - Doctor Examination for Simple Prescriptions: R6 = 56.0 patients per hour\n",
      "Stage 7 - Urgent Area Waiting: R7 = 14.0 patients per hour\n",
      "Stage 8 - Doctor Examination for Potential Admits: R8 = 14.0 patients per hour\n"
     ]
    }
   ],
   "source": [
    "# Given Information:\n",
    "arrival_rate = 70  # patients per hour\n",
    "\n",
    "# Calculate the flow rate (R) for each stage based on the given percentages\n",
    "R1 = arrival_rate\n",
    "R2 = R1\n",
    "R3 = R2\n",
    "R4 = R3\n",
    "R5 = 0.8 * R4\n",
    "R6 = R5\n",
    "R7 = 0.2 * R4\n",
    "R8 = R7\n",
    "\n",
    "# Print the flow rates for each stage\n",
    "print(\"Flow Rates for Each Stage:\")\n",
    "print(f\"Stage 1 - Waiting to Register: R1 = {R1} patients per hour\")\n",
    "print(f\"Stage 2 - Registration (Time to Register): R2 = {R2} patients per hour\")\n",
    "print(f\"Stage 3 - Waiting for Triage Nurse: R3 = {R3} patients per hour\")\n",
    "print(f\"Stage 4 - Triage Nurse Examination: R4 = {R4} patients per hour\")\n",
    "print(f\"Stage 5 - Simple Prescriptions Waiting: R5 = {R5} patients per hour\")\n",
    "print(f\"Stage 6 - Doctor Examination for Simple Prescriptions: R6 = {R6} patients per hour\")\n",
    "print(f\"Stage 7 - Urgent Area Waiting: R7 = {R7} patients per hour\")\n",
    "print(f\"Stage 8 - Doctor Examination for Potential Admits: R8 = {R8} patients per hour\")\n"
   ]
  },
  {
   "cell_type": "markdown",
   "metadata": {},
   "source": [
    "###  Calculate the flow rate (R) for each stage based on the given percentages"
   ]
  },
  {
   "cell_type": "markdown",
   "metadata": {},
   "source": [
    "\n",
    "**Stage 1 - Registration (Entering Patients)**\n",
    "- Patients enter the ER and go through registration.\n",
    "- On average, 5 patients are waiting to register.\n",
    "- Registration takes 2 minutes per patient.\n"
   ]
  },
  {
   "cell_type": "code",
   "execution_count": 9,
   "metadata": {},
   "outputs": [
    {
     "name": "stdout",
     "output_type": "stream",
     "text": [
      "Stage 1 - Registration (Entering Patients):\n",
      "  Flow Rate (R1): 70 patients per hour\n",
      "  Inventory (I1): 5 patients\n",
      "  Flow Time (T1): 4.29 minutes\n",
      "\n"
     ]
    }
   ],
   "source": [
    "R1 = arrival_rate\n",
    "I1 = 5\n",
    "T1 = I1 / R1 * 60  # Convert to minutes\n",
    "print(f\"Stage 1 - Waiting area (Entering Patients):\")\n",
    "print(f\"  Flow Rate (R1): {R1} patients per hour\")\n",
    "print(f\"  Inventory (I1): {I1} patients\")\n",
    "print(f\"  Flow Time (T1): {T1:.2f} minutes\\n\")\n"
   ]
  },
  {
   "cell_type": "code",
   "execution_count": 25,
   "metadata": {},
   "outputs": [
    {
     "name": "stdout",
     "output_type": "stream",
     "text": [
      "Stage 2 - Registration (Time to Register):\n",
      "  Flow Rate (R2): 70 patients per hour\n",
      "  Inventory (I2): 2.33 patients\n",
      "  Flow Time (T2): 0.033 hours\n",
      "\n",
      "  Flow Time (T2): 2.0 minutes\n",
      "\n"
     ]
    }
   ],
   "source": [
    "\n",
    "# Stage 2 - Registration (Time to Register)\n",
    "R2 = R1\n",
    "\n",
    "T2 = 00.03333333333333333333  # Convert to minutes\n",
    "I2 = R2 * T2 # Convert to hours\n",
    "\n",
    "print(f\"Stage 2 - Registration (Time to Register):\")\n",
    "print(f\"  Flow Rate (R2): {R2} patients per hour\")\n",
    "print(f\"  Inventory (I2): {I2:.2f} patients\")\n",
    "print(f\"  Flow Time (T2): {T2:.3f} hours\\n\")\n",
    "print(f\"  Flow Time (T2): {60*T2:.1f} minutes\\n\")"
   ]
  },
  {
   "cell_type": "code",
   "execution_count": 27,
   "metadata": {},
   "outputs": [
    {
     "name": "stdout",
     "output_type": "stream",
     "text": [
      "Stage 3 - Waiting for Triage Nurse:\n",
      "  Flow Rate (R3): 70 patients per hour\n",
      "  Inventory (I3): 3.00 patients\n",
      "  Flow Time (T3): 0.043 hours\n",
      "\n",
      "  Flow Time (T3): 2.6 minutes\n",
      "\n"
     ]
    }
   ],
   "source": [
    "\n",
    "# Stage 3 - Waiting for Triage Nurse\n",
    "R3 = R2\n",
    "I3 = 3\n",
    "T3 = I3 / R3 \n",
    "\n",
    "print(f\"Stage 3 - Waiting for Triage Nurse:\")\n",
    "print(f\"  Flow Rate (R3): {R3} patients per hour\")\n",
    "print(f\"  Inventory (I3): {I3:.2f} patients\")\n",
    "print(f\"  Flow Time (T3): {T3:.3f} hours\\n\")\n",
    "print(f\"  Flow Time (T3): {60*T3:.1f} minutes\\n\")"
   ]
  },
  {
   "cell_type": "code",
   "execution_count": 29,
   "metadata": {},
   "outputs": [
    {
     "name": "stdout",
     "output_type": "stream",
     "text": [
      "Stage 4 - Triage Nurse Examination:\n",
      "  Flow Rate (R4): 70 patients per hour\n",
      "  Inventory (I4): 5.83 patients\n",
      "  Flow Time (T4): 0.083 hours\n",
      "\n",
      "  Flow Time (T4): 5.0 minutes\n",
      "\n"
     ]
    }
   ],
   "source": [
    "\n",
    "# Stage 4 - Triage Nurse Examination\n",
    "R4 = R3\n",
    "T4 = 5 / 60\n",
    "I4 = R4 * T4\n",
    "\n",
    "print(f\"Stage 4 - Triage Nurse Examination:\")\n",
    "print(f\"  Flow Rate (R4): {R4} patients per hour\")\n",
    "print(f\"  Inventory (I4): {I4:.2f} patients\")\n",
    "print(f\"  Flow Time (T4): {T4:.3f} hours\\n\")\n",
    "print(f\"  Flow Time (T4): {60*T4:.1f} minutes\\n\")"
   ]
  },
  {
   "cell_type": "code",
   "execution_count": null,
   "metadata": {},
   "outputs": [],
   "source": [
    "\n",
    "# Stage 5 - Simple Prescriptions Waiting\n",
    "R5 = 0.8 * R4\n",
    "I5 = 6\n",
    "T5 = I5 / R5 * 60  # Convert to minutes\n"
   ]
  },
  {
   "cell_type": "code",
   "execution_count": null,
   "metadata": {},
   "outputs": [],
   "source": [
    "\n",
    "# Stage 6 - Doctor Examination for Simple Prescriptions\n",
    "R6 = R5\n",
    "I6 = 0\n",
    "T6 = 0\n",
    "\n",
    "# Stage 7 - Urgent Area Waiting\n",
    "R7 = 0.2 * R4\n",
    "I7 = 2\n",
    "T7 = I7 / R7 * 60  # Convert to minutes\n",
    "\n",
    "# Stage 8 - Doctor Examination for Potential Admits\n",
    "R8 = R7\n",
    "I8 = 0\n",
    "T8 = 0\n"
   ]
  },
  {
   "cell_type": "markdown",
   "metadata": {},
   "source": [
    "### Calculate the total average patients in the ER, including all stages\n"
   ]
  },
  {
   "cell_type": "code",
   "execution_count": 6,
   "metadata": {},
   "outputs": [],
   "source": [
    "total_patients_in_ER = I1 + I2 + I3 + I4 + I5 + I6 + I7 + I8"
   ]
  },
  {
   "cell_type": "markdown",
   "metadata": {},
   "source": [
    "### Results"
   ]
  },
  {
   "cell_type": "code",
   "execution_count": 7,
   "metadata": {},
   "outputs": [
    {
     "name": "stdout",
     "output_type": "stream",
     "text": [
      "Results:\n",
      "Stage 1 - Registration (Entering Patients):\n",
      "  Inventory (I1): 5 patients\n",
      "  Flow Time (T1): 4.29 minutes\n",
      "\n",
      "Stage 2 - Registration (Time to Register):\n",
      "  Inventory (I2): 0 patients\n",
      "  Flow Time (T2): 0.00 minutes\n",
      "\n",
      "Stage 3 - Waiting for Triage Nurse:\n",
      "  Inventory (I3): 3 patients\n",
      "  Flow Time (T3): 2.57 minutes\n",
      "\n",
      "Stage 4 - Triage Nurse Examination:\n",
      "  Inventory (I4): 0 patients\n",
      "  Flow Time (T4): 0.00 minutes\n",
      "\n",
      "Stage 5 - Simple Prescriptions Waiting:\n",
      "  Inventory (I5): 6 patients\n",
      "  Flow Time (T5): 6.43 minutes\n",
      "\n",
      "Stage 6 - Doctor Examination for Simple Prescriptions:\n",
      "  Inventory (I6): 0 patients\n",
      "  Flow Time (T6): 0.00 minutes\n",
      "\n",
      "Stage 7 - Urgent Area Waiting:\n",
      "  Inventory (I7): 2 patients\n",
      "  Flow Time (T7): 8.57 minutes\n",
      "\n",
      "Stage 8 - Doctor Examination for Potential Admits:\n",
      "  Inventory (I8): 0 patients\n",
      "  Flow Time (T8): 0.00 minutes\n",
      "\n",
      "Total Average Patients in the ER: 16 patients\n"
     ]
    }
   ],
   "source": [
    "\n",
    "# Print the results\n",
    "print(\"Results:\")\n",
    "print(f\"Stage 1 - Registration (Entering Patients):\")\n",
    "print(f\"  Inventory (I1): {I1} patients\")\n",
    "print(f\"  Flow Time (T1): {T1:.2f} minutes\\n\")\n",
    "\n",
    "print(f\"Stage 2 - Registration (Time to Register):\")\n",
    "print(f\"  Inventory (I2): {I2} patients\")\n",
    "print(f\"  Flow Time (T2): {T2:.2f} minutes\\n\")\n",
    "\n",
    "print(f\"Stage 3 - Waiting for Triage Nurse:\")\n",
    "print(f\"  Inventory (I3): {I3} patients\")\n",
    "print(f\"  Flow Time (T3): {T3:.2f} minutes\\n\")\n",
    "\n",
    "print(f\"Stage 4 - Triage Nurse Examination:\")\n",
    "print(f\"  Inventory (I4): {I4} patients\")\n",
    "print(f\"  Flow Time (T4): {T4:.2f} minutes\\n\")\n",
    "\n",
    "print(f\"Stage 5 - Simple Prescriptions Waiting:\")\n",
    "print(f\"  Inventory (I5): {I5} patients\")\n",
    "print(f\"  Flow Time (T5): {T5:.2f} minutes\\n\")\n",
    "\n",
    "print(f\"Stage 6 - Doctor Examination for Simple Prescriptions:\")\n",
    "print(f\"  Inventory (I6): {I6} patients\")\n",
    "print(f\"  Flow Time (T6): {T6:.2f} minutes\\n\")\n",
    "\n",
    "print(f\"Stage 7 - Urgent Area Waiting:\")\n",
    "print(f\"  Inventory (I7): {I7} patients\")\n",
    "print(f\"  Flow Time (T7): {T7:.2f} minutes\\n\")\n",
    "\n",
    "print(f\"Stage 8 - Doctor Examination for Potential Admits:\")\n",
    "print(f\"  Inventory (I8): {I8} patients\")\n",
    "print(f\"  Flow Time (T8): {T8:.2f} minutes\\n\")\n",
    "\n",
    "print(f\"Total Average Patients in the ER: {total_patients_in_ER} patients\")\n"
   ]
  },
  {
   "cell_type": "code",
   "execution_count": null,
   "metadata": {},
   "outputs": [],
   "source": []
  }
 ],
 "metadata": {
  "kernelspec": {
   "display_name": "customerBehenv",
   "language": "python",
   "name": "customerbehenv"
  },
  "language_info": {
   "codemirror_mode": {
    "name": "ipython",
    "version": 3
   },
   "file_extension": ".py",
   "mimetype": "text/x-python",
   "name": "python",
   "nbconvert_exporter": "python",
   "pygments_lexer": "ipython3",
   "version": "3.9.16"
  },
  "orig_nbformat": 4
 },
 "nbformat": 4,
 "nbformat_minor": 2
}
